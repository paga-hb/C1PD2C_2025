{
 "cells": [
  {
   "cell_type": "markdown",
   "id": "9aa91693",
   "metadata": {},
   "source": [
    "# xeus cling\n",
    "\n",
    "[![Open In Colab](https://colab.research.google.com/assets/colab-badge.svg)](https://colab.research.google.com/github/paga-hb/C1PD2C_2025/blob/main/notebooks/xeus_cling.ipynb)\n",
    "\n",
    "This notebook shows how to use the xeus cling package.\n",
    "\n",
    "- GitHub: https://github.com/jupyter-xeus/xeus-cling\n",
    "- Docs: https://xeus-cling.readthedocs.io/en/latest\n",
    "\n",
    "You do NOT need a host-wide C/C++ compiler outside of Conda, since:\n",
    "\n",
    "- The xeus-cling Conda package includes a self-contained C++ interpreter (cling) built with LLVM/Clang.\n",
    "  - It comes bundled with its own:\n",
    "    - C++ standard library headers\n",
    "    - Internal Clang compiler\n",
    "    - Toolchain environment (via Conda)\n",
    "  - So you’re not compiling anything with your system's g++ or clang++.\n",
    "\n",
    "**NOTE! To use this notebook in VSCode**\n",
    "\n",
    "- `Select Kernel -> Jupyter Kernel -> C++17 (.conda)`"
   ]
  },
  {
   "cell_type": "markdown",
   "id": "8a47993d",
   "metadata": {},
   "source": [
    "---\n",
    "## Install `conda`, `mamba`, and `xeus-cling`"
   ]
  },
  {
   "cell_type": "code",
   "execution_count": 1,
   "id": "360355c8",
   "metadata": {
    "vscode": {
     "languageId": "c"
    }
   },
   "outputs": [],
   "source": [
    "!pip install -q condacolab\n",
    "import condacolab\n",
    "condacolab.install()"
   ]
  },
  {
   "cell_type": "code",
   "execution_count": 2,
   "id": "50bb5b19",
   "metadata": {
    "vscode": {
     "languageId": "c"
    }
   },
   "outputs": [
    {
     "name": "stdout",
     "output_type": "stream",
     "text": [
      "Retrieving notices: done\n",
      "Channels:\n",
      " - conda-forge\n",
      " - defaults\n",
      "Platform: linux-64\n",
      "Collecting package metadata (repodata.json): ...working... done\n",
      "Solving environment: ...working... done\n",
      "\n",
      "# All requested packages already installed.\n",
      "\n"
     ]
    }
   ],
   "source": [
    "!conda install -y mamba -n base -c conda-forge"
   ]
  },
  {
   "cell_type": "code",
   "execution_count": 3,
   "id": "d982e785",
   "metadata": {
    "vscode": {
     "languageId": "c"
    }
   },
   "outputs": [
    {
     "name": "stdout",
     "output_type": "stream",
     "text": [
      "warning  libmamba 'repo.anaconda.com', a commercial channel hosted by Anaconda.com, is used.\n",
      "    \n",
      "warning  libmamba Please make sure you understand Anaconda Terms of Services.\n",
      "    \n",
      "warning  libmamba See: https://legal.anaconda.com/policies/en/\n",
      "\n",
      "Pinned packages:\n",
      "\n",
      "  - python=3.12\n",
      "\n",
      "\n",
      "Transaction\n",
      "\n",
      "  Prefix: /home/patrick/projects/pdp/.conda\n",
      "\n",
      "  All requested packages already installed\n",
      "\n",
      "\n",
      "Transaction starting\n",
      "\n",
      "Transaction finished\n",
      "\n"
     ]
    }
   ],
   "source": [
    "!mamba install -y xeus-cling -c conda-forge"
   ]
  },
  {
   "cell_type": "markdown",
   "id": "609dfecd",
   "metadata": {},
   "source": [
    "---\n",
    "## C"
   ]
  },
  {
   "cell_type": "code",
   "execution_count": 4,
   "id": "df337dca",
   "metadata": {
    "vscode": {
     "languageId": "c"
    }
   },
   "outputs": [
    {
     "name": "stdout",
     "output_type": "stream",
     "text": [
      "Hello World!"
     ]
    }
   ],
   "source": [
    "#include <stdio.h>\n",
    "\n",
    "int main(void)\n",
    "{\n",
    "    printf(\"%s\", \"Hello World!\");\n",
    "    return 0;\n",
    "}\n",
    "\n",
    "main();"
   ]
  },
  {
   "cell_type": "markdown",
   "id": "51450c93",
   "metadata": {},
   "source": [
    "---\n",
    "## C++"
   ]
  },
  {
   "cell_type": "code",
   "execution_count": 30,
   "id": "fdf7880e",
   "metadata": {
    "vscode": {
     "languageId": "cpp"
    }
   },
   "outputs": [
    {
     "name": "stdout",
     "output_type": "stream",
     "text": [
      "Hello World!\n"
     ]
    }
   ],
   "source": [
    "#include <iostream>\n",
    "\n",
    "// using namespace std;\n",
    "\n",
    "int main(void)\n",
    "{\n",
    "    std::cout << \"Hello World!\" << std::endl;\n",
    "    return 0;\n",
    "}\n",
    "\n",
    "main();"
   ]
  },
  {
   "cell_type": "code",
   "execution_count": null,
   "id": "5da51775",
   "metadata": {
    "vscode": {
     "languageId": "python"
    }
   },
   "outputs": [],
   "source": []
  }
 ],
 "metadata": {
  "kernelspec": {
   "display_name": "C++17",
   "language": "C++17",
   "name": "xcpp17"
  },
  "language_info": {
   "codemirror_mode": "text/x-c++src",
   "file_extension": ".cpp",
   "mimetype": "text/x-c++src",
   "name": "c++",
   "version": "17"
  },
  "polyglot_notebook": {
   "kernelInfo": {
    "defaultKernelName": "fsharp",
    "items": [
     {
      "aliases": [],
      "name": "fsharp"
     }
    ]
   }
  }
 },
 "nbformat": 4,
 "nbformat_minor": 5
}
