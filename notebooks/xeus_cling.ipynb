{
 "cells": [
  {
   "cell_type": "markdown",
   "id": "9aa91693",
   "metadata": {},
   "source": [
    "# xeus cling\n",
    "\n",
    "[![Open In Colab](https://colab.research.google.com/assets/colab-badge.svg)](https://colab.research.google.com/github/paga-hb/C1PD2C_2025/blob/main/notebooks/xeus_cling.ipynb)\n",
    "\n",
    "This notebook shows how to use the xeus cling package.\n",
    "\n",
    "- GitHub: https://github.com/jupyter-xeus/xeus-cling\n",
    "- Docs: https://xeus-cling.readthedocs.io/en/latest\n",
    "\n",
    "You do NOT need a host-wide C/C++ compiler outside of Conda, since:\n",
    "\n",
    "- The xeus-cling Conda package includes a self-contained C++ interpreter (cling) built with LLVM/Clang.\n",
    "  - It comes bundled with its own:\n",
    "    - C++ standard library headers\n",
    "    - Internal Clang compiler\n",
    "    - Toolchain environment (via Conda)\n",
    "  - So you’re not compiling anything with your system's g++ or clang++.\n",
    "\n",
    "**NOTE! To use this notebook**\n",
    "\n",
    "- `Select Kernel -> Jupyter Kernel -> C++17 (.conda)`"
   ]
  },
  {
   "cell_type": "markdown",
   "id": "609dfecd",
   "metadata": {},
   "source": [
    "---\n",
    "## C"
   ]
  },
  {
   "cell_type": "code",
   "execution_count": 29,
   "id": "df337dca",
   "metadata": {
    "vscode": {
     "languageId": "c"
    }
   },
   "outputs": [
    {
     "name": "stdout",
     "output_type": "stream",
     "text": [
      "Hello World!"
     ]
    }
   ],
   "source": [
    "#include <stdio.h>\n",
    "\n",
    "int main(void)\n",
    "{\n",
    "    printf(\"%s\", \"Hello World!\");\n",
    "    return 0;\n",
    "}\n",
    "\n",
    "main();"
   ]
  },
  {
   "cell_type": "markdown",
   "id": "51450c93",
   "metadata": {},
   "source": [
    "---\n",
    "## C++"
   ]
  },
  {
   "cell_type": "code",
   "execution_count": 30,
   "id": "fdf7880e",
   "metadata": {
    "vscode": {
     "languageId": "cpp"
    }
   },
   "outputs": [
    {
     "name": "stdout",
     "output_type": "stream",
     "text": [
      "Hello World!\n"
     ]
    }
   ],
   "source": [
    "#include <iostream>\n",
    "\n",
    "// using namespace std;\n",
    "\n",
    "int main(void)\n",
    "{\n",
    "    std::cout << \"Hello World!\" << std::endl;\n",
    "    return 0;\n",
    "}\n",
    "\n",
    "main();"
   ]
  },
  {
   "cell_type": "code",
   "execution_count": null,
   "id": "5da51775",
   "metadata": {
    "vscode": {
     "languageId": "python"
    }
   },
   "outputs": [],
   "source": []
  }
 ],
 "metadata": {
  "kernelspec": {
   "display_name": "C++17",
   "language": "C++17",
   "name": "xcpp17"
  },
  "language_info": {
   "codemirror_mode": "text/x-c++src",
   "file_extension": ".cpp",
   "mimetype": "text/x-c++src",
   "name": "C++17",
   "version": "17"
  },
  "polyglot_notebook": {
   "kernelInfo": {
    "defaultKernelName": "fsharp",
    "items": [
     {
      "aliases": [],
      "name": "fsharp"
     }
    ]
   }
  }
 },
 "nbformat": 4,
 "nbformat_minor": 5
}
