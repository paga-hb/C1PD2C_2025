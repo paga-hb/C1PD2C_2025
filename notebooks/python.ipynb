{
 "cells": [
  {
   "cell_type": "markdown",
   "id": "9aa91693",
   "metadata": {},
   "source": [
    "# python\n",
    "\n",
    "[![Open In Colab](https://colab.research.google.com/assets/colab-badge.svg)](https://colab.research.google.com/github/paga-hb/C1PD2C_2025/blob/main/notebooks/python.ipynb)\n",
    "\n",
    "\n",
    "This notebook shows how to use a normal python notebook with shell commands to create, compile, and run C/C++/CUDA/OpenCL programs.\n",
    "\n",
    "Requirements for the notebook to work:\n",
    "\n",
    "- NVIDIA GPU + Drivers (runtime)\n",
    "  - You need a supported NVIDIA GPU and the appropriate driver version installed to actually run the CUDA code.\n",
    "- CUDA Toolkit\n",
    "  - Includes nvcc (the NVIDIA CUDA Compiler).\n",
    "  - Provides headers and libraries needed for compiling GPU code.\n",
    "  - Must be compatible with your system's GPU drivers.\n",
    "- OpenCL Toolkit\n",
    "  - On Linux: usually g++ or clang++.\n",
    "  - On Windows: MSVC (Microsoft Visual C++) or WSL with Linux tools.\n",
    "  - On macOS: CUDA isn't officially supported for newer GPUs, so this is trickier.\n",
    "- C/C++ Compiler\n",
    "  - On Linux: usually g++ or clang++.\n",
    "  - On Windows: MSVC (Microsoft Visual C++) or WSL with Linux tools.\n",
    "  - On macOS: CUDA isn't officially supported for newer GPUs, so this is trickier.\n",
    "\n",
    "The notebook executes shell commands with `!` or `%%system`."
   ]
  },
  {
   "cell_type": "code",
   "execution_count": 37,
   "id": "0589d0c8",
   "metadata": {},
   "outputs": [],
   "source": [
    "# Create folders for code files (src), header files (include), and executable files (build) \n",
    "!mkdir -p ../src\n",
    "!mkdir -p ../include\n",
    "!mkdir -p ../build"
   ]
  },
  {
   "cell_type": "markdown",
   "id": "707b4113",
   "metadata": {},
   "source": [
    "---\n",
    "## C"
   ]
  },
  {
   "cell_type": "code",
   "execution_count": 20,
   "id": "c1efbd1e",
   "metadata": {},
   "outputs": [
    {
     "name": "stdout",
     "output_type": "stream",
     "text": [
      "Writing ../src/c_hello.c\n"
     ]
    }
   ],
   "source": [
    "%%file ../src/c_hello.c\n",
    "// main.c\n",
    "#include <stdio.h>\n",
    "\n",
    "int main(void)\n",
    "{\n",
    "    printf(\"%s\", \"Hello from C!\");\n",
    "    return 0;\n",
    "}"
   ]
  },
  {
   "cell_type": "code",
   "execution_count": 21,
   "id": "c25c4721",
   "metadata": {},
   "outputs": [],
   "source": [
    "!gcc -g -I ../include ../src/c_hello.c -o ../build/c_hello"
   ]
  },
  {
   "cell_type": "code",
   "execution_count": 22,
   "id": "2f67d49e",
   "metadata": {},
   "outputs": [],
   "source": [
    "!clang -g -I ../include ../src/c_hello.c -o ../build/c_hello"
   ]
  },
  {
   "cell_type": "code",
   "execution_count": 23,
   "id": "d22fea61",
   "metadata": {},
   "outputs": [
    {
     "name": "stdout",
     "output_type": "stream",
     "text": [
      "Hello from C!"
     ]
    }
   ],
   "source": [
    "!../build/c_hello"
   ]
  },
  {
   "cell_type": "markdown",
   "id": "b96cff67",
   "metadata": {},
   "source": [
    "---\n",
    "## C++"
   ]
  },
  {
   "cell_type": "code",
   "execution_count": 24,
   "id": "26af7db9",
   "metadata": {},
   "outputs": [
    {
     "name": "stdout",
     "output_type": "stream",
     "text": [
      "Writing ../src/cpp_hello.cpp\n"
     ]
    }
   ],
   "source": [
    "%%file ../src/cpp_hello.cpp\n",
    "// main.cpp\n",
    "#include <iostream>\n",
    "\n",
    "// using namespace std;\n",
    "\n",
    "int main(void)\n",
    "{\n",
    "    std::cout << \"Hello from C++!\" << std::endl;\n",
    "    // cout << \"Hello World!\" << endl;\n",
    "    return 0;\n",
    "}"
   ]
  },
  {
   "cell_type": "code",
   "execution_count": 25,
   "id": "7037d06e",
   "metadata": {},
   "outputs": [],
   "source": [
    "!g++ -g -I ../include ../src/cpp_hello.cpp -o ../build/cpp_hello"
   ]
  },
  {
   "cell_type": "code",
   "execution_count": 26,
   "id": "45183ca4",
   "metadata": {},
   "outputs": [],
   "source": [
    "!clang++ -g -I ../include ../src/cpp_hello.cpp -o ../build/cpp_hello"
   ]
  },
  {
   "cell_type": "code",
   "execution_count": 27,
   "id": "91cead0a",
   "metadata": {},
   "outputs": [
    {
     "name": "stdout",
     "output_type": "stream",
     "text": [
      "Hello from C++!\n"
     ]
    }
   ],
   "source": [
    "!../build/cpp_hello"
   ]
  },
  {
   "cell_type": "markdown",
   "id": "f3aa3231",
   "metadata": {},
   "source": [
    "---\n",
    "## CUDA C"
   ]
  },
  {
   "cell_type": "code",
   "execution_count": 28,
   "id": "dc3f4ce7",
   "metadata": {},
   "outputs": [
    {
     "name": "stdout",
     "output_type": "stream",
     "text": [
      "Writing ../src/c_cuda_hello.cu\n"
     ]
    }
   ],
   "source": [
    "%%file ../src/c_cuda_hello.cu\n",
    "#include <stdio.h>\n",
    "\n",
    "__global__ void hello()\n",
    "{\n",
    "    // CUDA supports the printf() function on the device\n",
    "    printf(\"Hello from device -> block: %u, thread: %u\\n\", blockIdx.x, threadIdx.x);\n",
    "}\n",
    "\n",
    "int main()\n",
    "{\n",
    "    printf(\"Hello from host\\n\");\n",
    "    hello<<<2, 2>>>();\n",
    "    cudaDeviceSynchronize();\n",
    "    return 0;\n",
    "}"
   ]
  },
  {
   "cell_type": "code",
   "execution_count": 29,
   "id": "dfef5fdb",
   "metadata": {},
   "outputs": [],
   "source": [
    "!nvcc -g -G -Wno-deprecated-gpu-targets -I ../include ../src/c_cuda_hello.cu -o ../build/c_cuda_hello"
   ]
  },
  {
   "cell_type": "code",
   "execution_count": 30,
   "id": "09f2158a",
   "metadata": {},
   "outputs": [
    {
     "name": "stdout",
     "output_type": "stream",
     "text": [
      "Hello from host\n",
      "Hello from device -> block: 1, thread: 0\n",
      "Hello from device -> block: 1, thread: 1\n",
      "Hello from device -> block: 0, thread: 0\n",
      "Hello from device -> block: 0, thread: 1\n"
     ]
    }
   ],
   "source": [
    "!../build/c_cuda_hello"
   ]
  },
  {
   "cell_type": "markdown",
   "id": "34858977",
   "metadata": {},
   "source": [
    "---\n",
    "## CUDA C++"
   ]
  },
  {
   "cell_type": "code",
   "execution_count": 31,
   "id": "fc64f4b9",
   "metadata": {},
   "outputs": [
    {
     "name": "stdout",
     "output_type": "stream",
     "text": [
      "Writing ../src/cpp_cuda_hello.cu\n"
     ]
    }
   ],
   "source": [
    "%%file ../src/cpp_cuda_hello.cu\n",
    "#include <iostream>\n",
    "\n",
    "using namespace std;\n",
    "\n",
    "__global__ void hello()\n",
    "{\n",
    "    // Note! CUDA does NOT support cout on the device (so use printf() for debugging)\n",
    "    printf(\"Hello from device block: %u, thread: %u\\n\", blockIdx.x, threadIdx.x);\n",
    "}\n",
    "\n",
    "int main()\n",
    "{\n",
    "    // It's fine to use cout on the host\n",
    "    cout << \"Hello from host\" << endl;\n",
    "    hello<<<2, 2>>>();\n",
    "    cudaDeviceSynchronize();\n",
    "    return 0;\n",
    "}"
   ]
  },
  {
   "cell_type": "code",
   "execution_count": 32,
   "id": "b0b8a283",
   "metadata": {},
   "outputs": [],
   "source": [
    "!nvcc -g -G -Wno-deprecated-gpu-targets -I ../include ../src/cpp_cuda_hello.cu -o ../build/cpp_cuda_hello"
   ]
  },
  {
   "cell_type": "code",
   "execution_count": 33,
   "id": "d254fe5a",
   "metadata": {},
   "outputs": [
    {
     "name": "stdout",
     "output_type": "stream",
     "text": [
      "Hello from host\n",
      "Hello from device block: 1, thread: 0\n",
      "Hello from device block: 1, thread: 1\n",
      "Hello from device block: 0, thread: 0\n",
      "Hello from device block: 0, thread: 1\n"
     ]
    }
   ],
   "source": [
    "!../build/cpp_cuda_hello"
   ]
  },
  {
   "cell_type": "code",
   "execution_count": 34,
   "id": "f0f2883b",
   "metadata": {},
   "outputs": [
    {
     "name": "stdout",
     "output_type": "stream",
     "text": [
      "Writing ../src/largest_element.cu\n"
     ]
    }
   ],
   "source": [
    "%%file ../src/largest_element.cu\n",
    "#include <cstdio>\n",
    "#include <iostream>\n",
    "\n",
    "using namespace std;\n",
    "\n",
    "__global__ void maxi(int* a, int* b, int n)\n",
    "{\n",
    "    int block = 256 * blockIdx.x;\n",
    "    int max = 0;\n",
    "\n",
    "    for (int i = block; i < min(256 + block, n); i++) {\n",
    "\n",
    "        if (max < a[i]) {\n",
    "            max = a[i];\n",
    "        }\n",
    "    }\n",
    "    b[blockIdx.x] = max;\n",
    "}\n",
    "\n",
    "int main()\n",
    "{\n",
    "    int n;\n",
    "    n = 3 << 2;\n",
    "    int a[n];\n",
    "\n",
    "    cout << \"Elements: \";\n",
    "    for (int i = 0; i < n; i++) {\n",
    "        a[i] = rand() % n;\n",
    "        cout << a[i] << \"\\t\";\n",
    "    }\n",
    "\n",
    "    cudaEvent_t start, end;\n",
    "    int *ad, *bd;\n",
    "    int size = n * sizeof(int);\n",
    "    cudaMalloc(&ad, size);\n",
    "    cudaMemcpy(ad, a, size, cudaMemcpyHostToDevice);\n",
    "    int grids = ceil(n * 1.0f / 256.0f);\n",
    "    cudaMalloc(&bd, grids * sizeof(int));\n",
    "\n",
    "    dim3 grid(grids, 1);\n",
    "    dim3 block(1, 1);\n",
    "\n",
    "    cudaEventCreate(&start);\n",
    "    cudaEventCreate(&end);\n",
    "    cudaEventRecord(start);\n",
    "\n",
    "    while (n > 1) {\n",
    "        maxi<<<grids, block>>>(ad, bd, n);\n",
    "        n = ceil(n * 1.0f / 256.0f);\n",
    "        cudaMemcpy(ad, bd, n * sizeof(int), cudaMemcpyDeviceToDevice);\n",
    "    }\n",
    "\n",
    "    cudaEventRecord(end);\n",
    "    cudaEventSynchronize(end);\n",
    "\n",
    "    float time = 0;\n",
    "    cudaEventElapsedTime(&time, start, end);\n",
    "\n",
    "    int ans[2];\n",
    "    cudaMemcpy(ans, ad, 4, cudaMemcpyDeviceToHost);\n",
    "\n",
    "    cout << \"\\nThe largest element is: \" << ans[0] << endl;\n",
    "\n",
    "    cout << \"The time required: \" << time << \" seconds\" << endl;\n",
    "}"
   ]
  },
  {
   "cell_type": "code",
   "execution_count": 35,
   "id": "5da51775",
   "metadata": {},
   "outputs": [],
   "source": [
    "!nvcc -g -G -Wno-deprecated-gpu-targets -I ../include ../src/largest_element.cu -o ../build/largest_element"
   ]
  },
  {
   "cell_type": "code",
   "execution_count": 36,
   "id": "01d18f8a",
   "metadata": {},
   "outputs": [
    {
     "name": "stdout",
     "output_type": "stream",
     "text": [
      "Elements: 7\t10\t9\t7\t5\t7\t10\t0\t9\t1\t2\t7\t\n",
      "The largest element is: 10\n",
      "The time required: 0.18944 seconds\n"
     ]
    }
   ],
   "source": [
    "!../build/largest_element"
   ]
  },
  {
   "cell_type": "code",
   "execution_count": 39,
   "id": "815678f1",
   "metadata": {},
   "outputs": [],
   "source": [
    "# Remove folders with code files, header files, and executable files\n",
    "!rm -rf ../src\n",
    "!rm -rf ../include\n",
    "!rm -rf ../build"
   ]
  },
  {
   "cell_type": "code",
   "execution_count": null,
   "id": "51fccadd",
   "metadata": {},
   "outputs": [],
   "source": []
  }
 ],
 "metadata": {
  "kernelspec": {
   "display_name": "Python 3",
   "language": "python",
   "name": "python3"
  },
  "language_info": {
   "codemirror_mode": {
    "name": "ipython",
    "version": 3
   },
   "file_extension": ".py",
   "mimetype": "text/x-python",
   "name": "python",
   "nbconvert_exporter": "python",
   "pygments_lexer": "ipython3",
   "version": "3.12.2"
  },
  "polyglot_notebook": {
   "kernelInfo": {
    "defaultKernelName": "fsharp",
    "items": [
     {
      "aliases": [],
      "name": "fsharp"
     }
    ]
   }
  }
 },
 "nbformat": 4,
 "nbformat_minor": 5
}
